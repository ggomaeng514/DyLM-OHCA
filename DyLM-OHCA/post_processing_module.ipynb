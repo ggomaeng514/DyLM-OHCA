{
 "cells": [
  {
   "cell_type": "code",
   "execution_count": 4,
   "metadata": {},
   "outputs": [],
   "source": [
    "import torch\n",
    "import torch.nn as nn\n",
    "\n",
    "def post_processing_module(logits, input_ids, device, sentence_ps='None', window_size=3):\n",
    "    pad_token_id = 0\n",
    "    seq_split_id_list = [42000, 42001, 42002, 42003]\n",
    "    # 여러 패딩 토큰 ID를 고려한 불리언 마스크 생성\n",
    "    mask = torch.isin(input_ids, torch.tensor(seq_split_id_list, device=device))\n",
    "    print(mask.shape, mask)\n",
    "    # True 값의 인덱스를 리스트 형태로 추출\n",
    "    true_indices = [torch.where(mask[b])[0].tolist() for b in range(batch_size)]\n",
    "    print(true_indices)\n",
    "    # 유효한 시퀀스 길이를 구함\n",
    "    sequence_lengths = (torch.eq(input_ids, pad_token_id).int().argmax(-1) - 1) % input_ids.shape[-1]\n",
    "\n",
    "\n",
    "    def segment_average_torch(input_tensor, true_indices, sequence_lengths):\n",
    "        batch_size, seq_len, class_num = input_tensor.shape\n",
    "        segment_avg_list = []\n",
    "\n",
    "        for b in range(batch_size):\n",
    "            start_idx = 0\n",
    "            segments = true_indices[b]\n",
    "            \n",
    "            batch_segment_avg = []\n",
    "            for end_idx in segments:\n",
    "\n",
    "                if start_idx < end_idx:  # Ensure there is a valid segment\n",
    "                    segment = input_tensor[b, start_idx:end_idx, :]  # 문장 단위\n",
    "                    \n",
    "                    # Calculate segment average for the segment\n",
    "                    avg_value = segment.mean(dim=0)\n",
    "\n",
    "                    batch_segment_avg.append(avg_value)\n",
    "                \n",
    "                start_idx = end_idx  # Move to the next segment\n",
    "            \n",
    "                if end_idx < sequence_lengths[b]:\n",
    "                    segment = input_tensor[b, start_idx:sequence_lengths[b]+1, :]\n",
    "                    avg_value = segment.mean(dim=0)\n",
    "                    batch_segment_avg.append(avg_value)\n",
    "\n",
    "            segment_avg_list.append(torch.stack(batch_segment_avg))\n",
    "        \n",
    "        return segment_avg_list\n",
    "\n",
    "    def moving_average_segments(segment_avg_logits, window_size):\n",
    "        moving_avg_segments = []\n",
    "\n",
    "        for batch in segment_avg_logits:\n",
    "            moving_avg_batch = []\n",
    "            num_segments = batch.shape[0]\n",
    "            \n",
    "            for i in range(num_segments):\n",
    "                start = max(0, i - window_size + 1)\n",
    "                end = i + 1\n",
    "                window_avg = batch[start:end].mean(dim=0)\n",
    "                moving_avg_batch.append(window_avg)\n",
    "            \n",
    "            moving_avg_segments.append(torch.stack(moving_avg_batch))\n",
    "        \n",
    "        return moving_avg_segments\n",
    "\n",
    "    if sentence_ps == 'None':\n",
    "        # 세그먼트 평균 계산\n",
    "        seq_logits = segment_average_torch(logits, true_indices, sequence_lengths)\n",
    "\n",
    "    # 세그먼트 이동 평균 계산\n",
    "    elif sentence_ps == 'moving_average':\n",
    "        segment_avg_logits = segment_average_torch(logits, true_indices, sequence_lengths)\n",
    "        seq_logits = moving_average_segments(segment_avg_logits, window_size)\n",
    "\n",
    "    logit = []\n",
    "    for batch in seq_logits:\n",
    "        v, _ = torch.max(batch, dim=0)\n",
    "        logit.append(v)\n",
    "    logit = torch.stack(logit, dim=0)\n",
    "\n",
    "    return logits, logit, seq_logits\n",
    "\n"
   ]
  },
  {
   "cell_type": "code",
   "execution_count": 11,
   "metadata": {},
   "outputs": [
    {
     "name": "stdout",
     "output_type": "stream",
     "text": [
      "torch.Size([2, 12]) tensor([[False,  True, False, False,  True, False, False, False, False, False,\n",
      "         False, False],\n",
      "        [False,  True, False, False,  True, False, False, False,  True, False,\n",
      "         False, False]], device='cuda:0')\n",
      "[[1, 4], [1, 4, 8]]\n"
     ]
    }
   ],
   "source": [
    "\n",
    "batch_size = 2\n",
    "seq_len = 12\n",
    "dim = 4\n",
    "class_num = 3\n",
    "pad_token_id = 0\n",
    "seq_split_id_list = [42000, 42001, 42002, 42003]  # [SPK0]: 42000 [SPK1]: 42001 [SPK2]: 42002 [SPK3]: 42003\n",
    "device = torch.device('cuda' if torch.cuda.is_available() else 'cpu')\n",
    "\n",
    "# 임의의 hidden_states, input_ids 생성\n",
    "hidden_states = torch.randn(batch_size, seq_len, dim).to(device)\n",
    "input_ids = torch.tensor([\n",
    "    [2, 42000, 1234, 12312, 42002, 5234, 132, 13222, pad_token_id, pad_token_id, pad_token_id, 3],\n",
    "    [2, 42000, 1234, 12312, 42002, 5234, 132, 13222, 42002, 4232, 1323, 3],\n",
    "], device=device)\n",
    "\n",
    "# logits 값을 1씩 증가하는 형태로 초기화\n",
    "logits = torch.randn(batch_size, seq_len, class_num).to(device)\n",
    "# logits = torch.arange(1, batch_size * seq_len * class_num + 1, dtype=torch.float).view(batch_size, seq_len, class_num).to(device)\n",
    "\n",
    "logits, logit, seq_logits = post_processing_module(logits=logits, input_ids= input_ids, device= device, sentence_ps='None') # mean_np_max\n",
    "\n",
    "# logits, logit, seq_logits = post_processing_module(logits= logits, input_ids= input_ids, device= device, sentence_ps='moving_average', window_size=3) # mean_moving-average(3)_max\n",
    "# logits, logit, seq_logits = post_processing_module(logits= logits, input_ids= input_ids, device= device, sentence_ps='moving_average', window_size=5) # mean_moving-average(5)_max"
   ]
  },
  {
   "cell_type": "code",
   "execution_count": 12,
   "metadata": {},
   "outputs": [
    {
     "data": {
      "text/plain": [
       "tensor([[[-0.4481, -0.1480, -0.9030],\n",
       "         [ 3.6518, -1.3573, -0.7390],\n",
       "         [-1.7076, -0.1860,  0.9999],\n",
       "         [ 1.1357,  1.1619, -0.7755],\n",
       "         [-0.8124,  0.7639, -0.7912],\n",
       "         [ 0.3594, -1.0360, -0.7358],\n",
       "         [ 0.8928, -1.3632,  0.7288],\n",
       "         [-0.1187, -0.6048,  1.0007],\n",
       "         [ 0.0888, -2.1452, -0.7284],\n",
       "         [ 0.0259, -0.8101, -0.0561],\n",
       "         [-0.3895,  0.0760,  0.0503],\n",
       "         [-0.1721,  0.9788, -0.9429]],\n",
       "\n",
       "        [[-1.4614, -0.2747, -1.3924],\n",
       "         [-0.3280, -2.6116, -0.8565],\n",
       "         [-1.3301, -2.1722,  0.8784],\n",
       "         [ 1.7696, -2.2237, -0.8042],\n",
       "         [ 0.5479,  0.2335,  0.6776],\n",
       "         [ 0.4886, -1.7863, -0.7142],\n",
       "         [ 0.8375,  0.1173, -0.8532],\n",
       "         [ 0.7245, -1.0953, -0.0191],\n",
       "         [-0.4028, -0.3469, -0.1195],\n",
       "         [-0.0101, -1.2463,  2.2080],\n",
       "         [ 0.8413, -0.6801, -0.9111],\n",
       "         [ 1.3621, -0.2059,  0.8476]]], device='cuda:0')"
      ]
     },
     "execution_count": 12,
     "metadata": {},
     "output_type": "execute_result"
    }
   ],
   "source": [
    "logits"
   ]
  },
  {
   "cell_type": "code",
   "execution_count": 13,
   "metadata": {},
   "outputs": [
    {
     "data": {
      "text/plain": [
       "tensor([[ 1.0266, -0.1271,  0.0506],\n",
       "        [ 0.6496, -0.2747,  0.5062]], device='cuda:0')"
      ]
     },
     "execution_count": 13,
     "metadata": {},
     "output_type": "execute_result"
    }
   ],
   "source": [
    "logit"
   ]
  },
  {
   "cell_type": "code",
   "execution_count": 17,
   "metadata": {},
   "outputs": [
    {
     "data": {
      "text/plain": [
       "[tensor([[-0.4481, -0.1480, -0.9030],\n",
       "         [ 0.4859, -0.3745, -0.0446],\n",
       "         [ 1.0266, -0.1271, -0.1716],\n",
       "         [ 0.0803, -0.5600,  0.0506]], device='cuda:0'),\n",
       " tensor([[-1.4614, -0.2747, -1.3924],\n",
       "         [ 0.4091, -1.0925,  0.0303],\n",
       "         [ 0.0372, -2.3358, -0.2608],\n",
       "         [ 0.5486, -0.6263,  0.1395],\n",
       "         [ 0.6496, -0.6327, -0.2272],\n",
       "         [ 0.4476, -0.6198,  0.5062]], device='cuda:0')]"
      ]
     },
     "execution_count": 17,
     "metadata": {},
     "output_type": "execute_result"
    }
   ],
   "source": [
    "seq_logits"
   ]
  },
  {
   "cell_type": "code",
   "execution_count": 19,
   "metadata": {},
   "outputs": [
    {
     "data": {
      "text/plain": [
       "torch.Size([10, 3])"
      ]
     },
     "execution_count": 19,
     "metadata": {},
     "output_type": "execute_result"
    }
   ],
   "source": [
    "torch.cat(seq_logits, dim=0).shape"
   ]
  },
  {
   "cell_type": "code",
   "execution_count": null,
   "metadata": {},
   "outputs": [],
   "source": []
  }
 ],
 "metadata": {
  "kernelspec": {
   "display_name": "119",
   "language": "python",
   "name": "python3"
  },
  "language_info": {
   "codemirror_mode": {
    "name": "ipython",
    "version": 3
   },
   "file_extension": ".py",
   "mimetype": "text/x-python",
   "name": "python",
   "nbconvert_exporter": "python",
   "pygments_lexer": "ipython3",
   "version": "3.10.14"
  }
 },
 "nbformat": 4,
 "nbformat_minor": 2
}
